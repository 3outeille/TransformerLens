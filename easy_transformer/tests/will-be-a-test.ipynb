{
 "cells": [
  {
   "cell_type": "code",
   "execution_count": 1,
   "metadata": {},
   "outputs": [
    {
     "name": "stderr",
     "output_type": "stream",
     "text": [
      "Some weights of the model checkpoint at bert-base-uncased were not used when initializing BertForMaskedLM: ['cls.seq_relationship.bias', 'cls.seq_relationship.weight']\n",
      "- This IS expected if you are initializing BertForMaskedLM from the checkpoint of a model trained on another task or with another architecture (e.g. initializing a BertForSequenceClassification model from a BertForPreTraining model).\n",
      "- This IS NOT expected if you are initializing BertForMaskedLM from the checkpoint of a model that you expect to be exactly identical (initializing a BertForSequenceClassification model from a BertForSequenceClassification model).\n",
      "Using eos_token, but it is not set yet.\n",
      "Using bos_token, but it is not set yet.\n"
     ]
    },
    {
     "name": "stdout",
     "output_type": "stream",
     "text": [
      "type(input_ids)=<class 'torch.Tensor'>, input_ids.shape: torch.Size([1, 5])\n"
     ]
    },
    {
     "ename": "IndexError",
     "evalue": "index out of range in self",
     "output_type": "error",
     "traceback": [
      "\u001b[0;31m---------------------------------------------------------------------------\u001b[0m",
      "\u001b[0;31mIndexError\u001b[0m                                Traceback (most recent call last)",
      "\u001b[1;32m/Users/jesssmith/projects/Easy-Transformer/easy_transformer/tests/will-be-a-test.ipynb Cell 1\u001b[0m in \u001b[0;36m<cell line: 31>\u001b[0;34m()\u001b[0m\n\u001b[1;32m     <a href='vscode-notebook-cell:/Users/jesssmith/projects/Easy-Transformer/easy_transformer/tests/will-be-a-test.ipynb#W1sZmlsZQ%3D%3D?line=26'>27</a>\u001b[0m     \u001b[39mimport\u001b[39;00m \u001b[39mtorch\u001b[39;00m\n\u001b[1;32m     <a href='vscode-notebook-cell:/Users/jesssmith/projects/Easy-Transformer/easy_transformer/tests/will-be-a-test.ipynb#W1sZmlsZQ%3D%3D?line=27'>28</a>\u001b[0m     \u001b[39massert\u001b[39;00m torch\u001b[39m.\u001b[39mallclose(output\u001b[39m.\u001b[39mlogits, hf_output\u001b[39m.\u001b[39mlogits, atol\u001b[39m=\u001b[39m\u001b[39m1e-4\u001b[39m)\n\u001b[0;32m---> <a href='vscode-notebook-cell:/Users/jesssmith/projects/Easy-Transformer/easy_transformer/tests/will-be-a-test.ipynb#W1sZmlsZQ%3D%3D?line=30'>31</a>\u001b[0m make_this_a_test()\n",
      "\u001b[1;32m/Users/jesssmith/projects/Easy-Transformer/easy_transformer/tests/will-be-a-test.ipynb Cell 1\u001b[0m in \u001b[0;36mmake_this_a_test\u001b[0;34m()\u001b[0m\n\u001b[1;32m      <a href='vscode-notebook-cell:/Users/jesssmith/projects/Easy-Transformer/easy_transformer/tests/will-be-a-test.ipynb#W1sZmlsZQ%3D%3D?line=8'>9</a>\u001b[0m our_model \u001b[39m=\u001b[39m EasyBERT\u001b[39m.\u001b[39mEasyBERT\u001b[39m.\u001b[39mfrom_pretrained(model_name)  \u001b[39m# TODO why two?\u001b[39;00m\n\u001b[1;32m     <a href='vscode-notebook-cell:/Users/jesssmith/projects/Easy-Transformer/easy_transformer/tests/will-be-a-test.ipynb#W1sZmlsZQ%3D%3D?line=9'>10</a>\u001b[0m \u001b[39m# TODO add various [return_type] options\u001b[39;00m\n\u001b[1;32m     <a href='vscode-notebook-cell:/Users/jesssmith/projects/Easy-Transformer/easy_transformer/tests/will-be-a-test.ipynb#W1sZmlsZQ%3D%3D?line=10'>11</a>\u001b[0m \u001b[39m# TODO figure out what's up with [using eos_token] and [using bos_token]\u001b[39;00m\n\u001b[0;32m---> <a href='vscode-notebook-cell:/Users/jesssmith/projects/Easy-Transformer/easy_transformer/tests/will-be-a-test.ipynb#W1sZmlsZQ%3D%3D?line=11'>12</a>\u001b[0m output \u001b[39m=\u001b[39m our_model(text)  \u001b[39m# TODO set the type of the variable on the LHS\u001b[39;00m\n\u001b[1;32m     <a href='vscode-notebook-cell:/Users/jesssmith/projects/Easy-Transformer/easy_transformer/tests/will-be-a-test.ipynb#W1sZmlsZQ%3D%3D?line=13'>14</a>\u001b[0m \u001b[39m# trying to import [AutoModelForMaskedLM] from the non-private location fucks up, not sure why; it makes\u001b[39;00m\n\u001b[1;32m     <a href='vscode-notebook-cell:/Users/jesssmith/projects/Easy-Transformer/easy_transformer/tests/will-be-a-test.ipynb#W1sZmlsZQ%3D%3D?line=14'>15</a>\u001b[0m \u001b[39m# [from_pretrained == None]\u001b[39;00m\n\u001b[1;32m     <a href='vscode-notebook-cell:/Users/jesssmith/projects/Easy-Transformer/easy_transformer/tests/will-be-a-test.ipynb#W1sZmlsZQ%3D%3D?line=15'>16</a>\u001b[0m \u001b[39mfrom\u001b[39;00m \u001b[39mtransformers\u001b[39;00m \u001b[39mimport\u001b[39;00m AutoModelForMaskedLM\n",
      "File \u001b[0;32m~/opt/anaconda3/lib/python3.9/site-packages/torch/nn/modules/module.py:1130\u001b[0m, in \u001b[0;36mModule._call_impl\u001b[0;34m(self, *input, **kwargs)\u001b[0m\n\u001b[1;32m   1126\u001b[0m \u001b[39m# If we don't have any hooks, we want to skip the rest of the logic in\u001b[39;00m\n\u001b[1;32m   1127\u001b[0m \u001b[39m# this function, and just call forward.\u001b[39;00m\n\u001b[1;32m   1128\u001b[0m \u001b[39mif\u001b[39;00m \u001b[39mnot\u001b[39;00m (\u001b[39mself\u001b[39m\u001b[39m.\u001b[39m_backward_hooks \u001b[39mor\u001b[39;00m \u001b[39mself\u001b[39m\u001b[39m.\u001b[39m_forward_hooks \u001b[39mor\u001b[39;00m \u001b[39mself\u001b[39m\u001b[39m.\u001b[39m_forward_pre_hooks \u001b[39mor\u001b[39;00m _global_backward_hooks\n\u001b[1;32m   1129\u001b[0m         \u001b[39mor\u001b[39;00m _global_forward_hooks \u001b[39mor\u001b[39;00m _global_forward_pre_hooks):\n\u001b[0;32m-> 1130\u001b[0m     \u001b[39mreturn\u001b[39;00m forward_call(\u001b[39m*\u001b[39;49m\u001b[39minput\u001b[39;49m, \u001b[39m*\u001b[39;49m\u001b[39m*\u001b[39;49mkwargs)\n\u001b[1;32m   1131\u001b[0m \u001b[39m# Do not call functions when jit is used\u001b[39;00m\n\u001b[1;32m   1132\u001b[0m full_backward_hooks, non_full_backward_hooks \u001b[39m=\u001b[39m [], []\n",
      "File \u001b[0;32m~/projects/Easy-Transformer/easy_transformer/bert/EasyBERT.py:193\u001b[0m, in \u001b[0;36mEasyBERT.forward\u001b[0;34m(self, x)\u001b[0m\n\u001b[1;32m    189\u001b[0m tokens \u001b[39m=\u001b[39m \u001b[39mself\u001b[39m\u001b[39m.\u001b[39m__make_tokens_for_forward__(\n\u001b[1;32m    190\u001b[0m     x, prepend_bos\u001b[39m=\u001b[39m\u001b[39mFalse\u001b[39;00m\n\u001b[1;32m    191\u001b[0m )  \u001b[39m# TODO really, always False?\u001b[39;00m\n\u001b[1;32m    192\u001b[0m mask \u001b[39m=\u001b[39m (tokens \u001b[39m>\u001b[39m \u001b[39m0\u001b[39m)\u001b[39m.\u001b[39munsqueeze(\u001b[39m1\u001b[39m)\u001b[39m.\u001b[39mrepeat(\u001b[39m1\u001b[39m, tokens\u001b[39m.\u001b[39msize(\u001b[39m1\u001b[39m), \u001b[39m1\u001b[39m)\u001b[39m.\u001b[39munsqueeze(\u001b[39m1\u001b[39m)\n\u001b[0;32m--> 193\u001b[0m embedded \u001b[39m=\u001b[39m \u001b[39mself\u001b[39;49m\u001b[39m.\u001b[39;49membeddings(\n\u001b[1;32m    194\u001b[0m     tokens\n\u001b[1;32m    195\u001b[0m )  \u001b[39m# TODO is there a way to make python complain about the variable named [input]?\u001b[39;00m\n\u001b[1;32m    196\u001b[0m encoded \u001b[39m=\u001b[39m \u001b[39mself\u001b[39m\u001b[39m.\u001b[39mencoder(embedded, mask)\n\u001b[1;32m    197\u001b[0m \u001b[39mreturn\u001b[39;00m encoded\n",
      "File \u001b[0;32m~/opt/anaconda3/lib/python3.9/site-packages/torch/nn/modules/module.py:1130\u001b[0m, in \u001b[0;36mModule._call_impl\u001b[0;34m(self, *input, **kwargs)\u001b[0m\n\u001b[1;32m   1126\u001b[0m \u001b[39m# If we don't have any hooks, we want to skip the rest of the logic in\u001b[39;00m\n\u001b[1;32m   1127\u001b[0m \u001b[39m# this function, and just call forward.\u001b[39;00m\n\u001b[1;32m   1128\u001b[0m \u001b[39mif\u001b[39;00m \u001b[39mnot\u001b[39;00m (\u001b[39mself\u001b[39m\u001b[39m.\u001b[39m_backward_hooks \u001b[39mor\u001b[39;00m \u001b[39mself\u001b[39m\u001b[39m.\u001b[39m_forward_hooks \u001b[39mor\u001b[39;00m \u001b[39mself\u001b[39m\u001b[39m.\u001b[39m_forward_pre_hooks \u001b[39mor\u001b[39;00m _global_backward_hooks\n\u001b[1;32m   1129\u001b[0m         \u001b[39mor\u001b[39;00m _global_forward_hooks \u001b[39mor\u001b[39;00m _global_forward_pre_hooks):\n\u001b[0;32m-> 1130\u001b[0m     \u001b[39mreturn\u001b[39;00m forward_call(\u001b[39m*\u001b[39;49m\u001b[39minput\u001b[39;49m, \u001b[39m*\u001b[39;49m\u001b[39m*\u001b[39;49mkwargs)\n\u001b[1;32m   1131\u001b[0m \u001b[39m# Do not call functions when jit is used\u001b[39;00m\n\u001b[1;32m   1132\u001b[0m full_backward_hooks, non_full_backward_hooks \u001b[39m=\u001b[39m [], []\n",
      "File \u001b[0;32m~/projects/Easy-Transformer/easy_transformer/bert/embeddings.py:18\u001b[0m, in \u001b[0;36mEmbeddings.forward\u001b[0;34m(self, input_ids)\u001b[0m\n\u001b[1;32m     16\u001b[0m \u001b[39mprint\u001b[39m(\u001b[39mf\u001b[39m\u001b[39m\"\u001b[39m\u001b[39m{\u001b[39;00m\u001b[39mtype\u001b[39m(input_ids)\u001b[39m=}\u001b[39;00m\u001b[39m, input_ids.shape: \u001b[39m\u001b[39m{\u001b[39;00minput_ids\u001b[39m.\u001b[39mshape\u001b[39m}\u001b[39;00m\u001b[39m\"\u001b[39m)\n\u001b[1;32m     17\u001b[0m w_e \u001b[39m=\u001b[39m \u001b[39mself\u001b[39m\u001b[39m.\u001b[39mword_embeddings(input_ids)\n\u001b[0;32m---> 18\u001b[0m p_e \u001b[39m=\u001b[39m \u001b[39mself\u001b[39;49m\u001b[39m.\u001b[39;49mposition_embeddings(input_ids)\n\u001b[1;32m     19\u001b[0m t_e \u001b[39m=\u001b[39m \u001b[39mself\u001b[39m\u001b[39m.\u001b[39mtoken_type_embeddings(input_ids)\n\u001b[1;32m     20\u001b[0m \u001b[39mreturn\u001b[39;00m w_e \u001b[39m+\u001b[39m p_e \u001b[39m+\u001b[39m t_e\n",
      "File \u001b[0;32m~/opt/anaconda3/lib/python3.9/site-packages/torch/nn/modules/module.py:1130\u001b[0m, in \u001b[0;36mModule._call_impl\u001b[0;34m(self, *input, **kwargs)\u001b[0m\n\u001b[1;32m   1126\u001b[0m \u001b[39m# If we don't have any hooks, we want to skip the rest of the logic in\u001b[39;00m\n\u001b[1;32m   1127\u001b[0m \u001b[39m# this function, and just call forward.\u001b[39;00m\n\u001b[1;32m   1128\u001b[0m \u001b[39mif\u001b[39;00m \u001b[39mnot\u001b[39;00m (\u001b[39mself\u001b[39m\u001b[39m.\u001b[39m_backward_hooks \u001b[39mor\u001b[39;00m \u001b[39mself\u001b[39m\u001b[39m.\u001b[39m_forward_hooks \u001b[39mor\u001b[39;00m \u001b[39mself\u001b[39m\u001b[39m.\u001b[39m_forward_pre_hooks \u001b[39mor\u001b[39;00m _global_backward_hooks\n\u001b[1;32m   1129\u001b[0m         \u001b[39mor\u001b[39;00m _global_forward_hooks \u001b[39mor\u001b[39;00m _global_forward_pre_hooks):\n\u001b[0;32m-> 1130\u001b[0m     \u001b[39mreturn\u001b[39;00m forward_call(\u001b[39m*\u001b[39;49m\u001b[39minput\u001b[39;49m, \u001b[39m*\u001b[39;49m\u001b[39m*\u001b[39;49mkwargs)\n\u001b[1;32m   1131\u001b[0m \u001b[39m# Do not call functions when jit is used\u001b[39;00m\n\u001b[1;32m   1132\u001b[0m full_backward_hooks, non_full_backward_hooks \u001b[39m=\u001b[39m [], []\n",
      "File \u001b[0;32m~/opt/anaconda3/lib/python3.9/site-packages/torch/nn/modules/sparse.py:158\u001b[0m, in \u001b[0;36mEmbedding.forward\u001b[0;34m(self, input)\u001b[0m\n\u001b[1;32m    157\u001b[0m \u001b[39mdef\u001b[39;00m \u001b[39mforward\u001b[39m(\u001b[39mself\u001b[39m, \u001b[39minput\u001b[39m: Tensor) \u001b[39m-\u001b[39m\u001b[39m>\u001b[39m Tensor:\n\u001b[0;32m--> 158\u001b[0m     \u001b[39mreturn\u001b[39;00m F\u001b[39m.\u001b[39;49membedding(\n\u001b[1;32m    159\u001b[0m         \u001b[39minput\u001b[39;49m, \u001b[39mself\u001b[39;49m\u001b[39m.\u001b[39;49mweight, \u001b[39mself\u001b[39;49m\u001b[39m.\u001b[39;49mpadding_idx, \u001b[39mself\u001b[39;49m\u001b[39m.\u001b[39;49mmax_norm,\n\u001b[1;32m    160\u001b[0m         \u001b[39mself\u001b[39;49m\u001b[39m.\u001b[39;49mnorm_type, \u001b[39mself\u001b[39;49m\u001b[39m.\u001b[39;49mscale_grad_by_freq, \u001b[39mself\u001b[39;49m\u001b[39m.\u001b[39;49msparse)\n",
      "File \u001b[0;32m~/opt/anaconda3/lib/python3.9/site-packages/torch/nn/functional.py:2199\u001b[0m, in \u001b[0;36membedding\u001b[0;34m(input, weight, padding_idx, max_norm, norm_type, scale_grad_by_freq, sparse)\u001b[0m\n\u001b[1;32m   2193\u001b[0m     \u001b[39m# Note [embedding_renorm set_grad_enabled]\u001b[39;00m\n\u001b[1;32m   2194\u001b[0m     \u001b[39m# XXX: equivalent to\u001b[39;00m\n\u001b[1;32m   2195\u001b[0m     \u001b[39m# with torch.no_grad():\u001b[39;00m\n\u001b[1;32m   2196\u001b[0m     \u001b[39m#   torch.embedding_renorm_\u001b[39;00m\n\u001b[1;32m   2197\u001b[0m     \u001b[39m# remove once script supports set_grad_enabled\u001b[39;00m\n\u001b[1;32m   2198\u001b[0m     _no_grad_embedding_renorm_(weight, \u001b[39minput\u001b[39m, max_norm, norm_type)\n\u001b[0;32m-> 2199\u001b[0m \u001b[39mreturn\u001b[39;00m torch\u001b[39m.\u001b[39;49membedding(weight, \u001b[39minput\u001b[39;49m, padding_idx, scale_grad_by_freq, sparse)\n",
      "\u001b[0;31mIndexError\u001b[0m: index out of range in self"
     ]
    }
   ],
   "source": [
    "# will go into [test_bert.py]\n",
    "\n",
    "def make_this_a_test():\n",
    "    model_name = \"bert-base-uncased\"\n",
    "    text = \"Hello world!\"\n",
    "    from easy_transformer import EasyBERT\n",
    "    from transformers.models.auto.tokenization_auto import AutoTokenizer\n",
    "    tokenizer = AutoTokenizer.from_pretrained(model_name)\n",
    "    our_model = EasyBERT.EasyBERT.from_pretrained(model_name)  # TODO why two?\n",
    "    # TODO add various [return_type] options\n",
    "    # TODO figure out what's up with [using eos_token] and [using bos_token]\n",
    "    output = our_model(text)  # TODO set the type of the variable on the LHS\n",
    "    \n",
    "    # trying to import [AutoModelForMaskedLM] from the non-private location fucks up, not sure why; it makes\n",
    "    # [from_pretrained == None]\n",
    "    from transformers import AutoModelForMaskedLM\n",
    "\n",
    "    n_tokens_in_input = tokenizer(text, return_tensors=\"pt\")\n",
    "    assert n_tokens_in_input == 5\n",
    "    assert output.logits.shape == (1, n_tokens_in_input, our_model.config.d_vocab)\n",
    "\n",
    "    assert (\n",
    "        AutoModelForMaskedLM.from_pretrained is not None\n",
    "    )  # recommended by https://github.com/microsoft/pylance-release/issues/333#issuecomment-688522371\n",
    "    hugging_face_model = AutoModelForMaskedLM.from_pretrained(model_name)\n",
    "    hf_output = hugging_face_model(**tokenizer(text, return_tensors=\"pt\"))\n",
    "    import torch\n",
    "    assert torch.allclose(output.logits, hf_output.logits, atol=1e-4)\n",
    "\n",
    "\n",
    "make_this_a_test()"
   ]
  },
  {
   "cell_type": "code",
   "execution_count": null,
   "metadata": {},
   "outputs": [],
   "source": []
  }
 ],
 "metadata": {
  "kernelspec": {
   "display_name": "Python 3.9.12 ('base')",
   "language": "python",
   "name": "python3"
  },
  "language_info": {
   "codemirror_mode": {
    "name": "ipython",
    "version": 3
   },
   "file_extension": ".py",
   "mimetype": "text/x-python",
   "name": "python",
   "nbconvert_exporter": "python",
   "pygments_lexer": "ipython3",
   "version": "3.9.12"
  },
  "orig_nbformat": 4,
  "vscode": {
   "interpreter": {
    "hash": "8859a5491331dba93123a91c2831400aced845b502848170e05fcb48b2c144be"
   }
  }
 },
 "nbformat": 4,
 "nbformat_minor": 2
}
